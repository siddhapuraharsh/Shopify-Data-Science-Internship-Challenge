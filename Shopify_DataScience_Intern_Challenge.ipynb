{
  "nbformat": 4,
  "nbformat_minor": 0,
  "metadata": {
    "colab": {
      "name": "Shopify_DataScience_Intern_Challenge.ipynb",
      "provenance": [],
      "collapsed_sections": []
    },
    "kernelspec": {
      "name": "python3",
      "display_name": "Python 3"
    },
    "language_info": {
      "name": "python"
    }
  },
  "cells": [
    {
      "cell_type": "markdown",
      "metadata": {
        "id": "3rSnNs7XEQgj"
      },
      "source": [
        "Question 1: Given some sample data, write a program to answer the following: click here to access the required data set\n",
        "\n",
        "On Shopify, we have exactly 100 sneaker shops, and each of these shops sells only one model of shoe. We want to do some analysis of the average order value (AOV). When we look at orders data over a 30 day window, we naively calculate an AOV of $3145.13. Given that we know these shops are selling sneakers, a relatively affordable item, something seems wrong with our analysis. \n"
      ]
    },
    {
      "cell_type": "markdown",
      "metadata": {
        "id": "4BSwAmwKEU2k"
      },
      "source": [
        "a.    **Think about what could be going wrong with our calculation. Think about a better way to evaluate this data.**\n",
        "\n",
        "Ans : \n",
        "From the below performed analysis I can conclude that in the dataset provided there is presence of outliers. Due to theses outliers the calculations result into a wrong output.\n",
        "The Average Order value can be derived for two different types of order.\n",
        "- B2B [Business to Business] Having the value in thousands\n",
        "- B2C [Business to Customer] Having the value in hundreds\n",
        "\n",
        "Thus if we can calculate the AOV separetly for the required class i.e. B2B or B2C. ( Here B2C )\n",
        "\n",
        "***The correct AOV as per below calculations = $357.92***"
      ]
    },
    {
      "cell_type": "markdown",
      "metadata": {
        "id": "5qPomvH-EYnS"
      },
      "source": [
        "**b.\tWhat metric would you report for this dataset?**\n",
        "\n",
        "Ans : To protect our evaluation metric from the effects of extreme/erroneous points it would be wise to use a robust evaluation metric: median.\n"
      ]
    },
    {
      "cell_type": "markdown",
      "metadata": {
        "id": "oEUhdn2_EdBj"
      },
      "source": [
        "**c.\tWhat is its value?**\n",
        "\n",
        "Ans : The median is 284, which is a more reasonable value for our measure of central tendancy than the mean (3145.13) given that we are talking about single-transaction purchases of shoes."
      ]
    },
    {
      "cell_type": "code",
      "metadata": {
        "id": "Vjh0blh3FrfM"
      },
      "source": [
        "import pandas as pd\n",
        "import seaborn as sns\n",
        "import matplotlib.pyplot as plt\n",
        "\n",
        "df = pd.read_csv('Shopify.csv')"
      ],
      "execution_count": 1,
      "outputs": []
    },
    {
      "cell_type": "code",
      "metadata": {
        "colab": {
          "base_uri": "https://localhost:8080/",
          "height": 204
        },
        "id": "pUaVCNL8K_FE",
        "outputId": "19cf6dfb-776d-414d-8302-2734adf86009"
      },
      "source": [
        "df.head()"
      ],
      "execution_count": 2,
      "outputs": [
        {
          "output_type": "execute_result",
          "data": {
            "text/html": [
              "<div>\n",
              "<style scoped>\n",
              "    .dataframe tbody tr th:only-of-type {\n",
              "        vertical-align: middle;\n",
              "    }\n",
              "\n",
              "    .dataframe tbody tr th {\n",
              "        vertical-align: top;\n",
              "    }\n",
              "\n",
              "    .dataframe thead th {\n",
              "        text-align: right;\n",
              "    }\n",
              "</style>\n",
              "<table border=\"1\" class=\"dataframe\">\n",
              "  <thead>\n",
              "    <tr style=\"text-align: right;\">\n",
              "      <th></th>\n",
              "      <th>order_id</th>\n",
              "      <th>shop_id</th>\n",
              "      <th>user_id</th>\n",
              "      <th>order_amount</th>\n",
              "      <th>total_items</th>\n",
              "      <th>payment_method</th>\n",
              "      <th>created_at</th>\n",
              "    </tr>\n",
              "  </thead>\n",
              "  <tbody>\n",
              "    <tr>\n",
              "      <th>0</th>\n",
              "      <td>1</td>\n",
              "      <td>53</td>\n",
              "      <td>746</td>\n",
              "      <td>224</td>\n",
              "      <td>2</td>\n",
              "      <td>cash</td>\n",
              "      <td>2017-03-13 12:36:56</td>\n",
              "    </tr>\n",
              "    <tr>\n",
              "      <th>1</th>\n",
              "      <td>2</td>\n",
              "      <td>92</td>\n",
              "      <td>925</td>\n",
              "      <td>90</td>\n",
              "      <td>1</td>\n",
              "      <td>cash</td>\n",
              "      <td>2017-03-03 17:38:52</td>\n",
              "    </tr>\n",
              "    <tr>\n",
              "      <th>2</th>\n",
              "      <td>3</td>\n",
              "      <td>44</td>\n",
              "      <td>861</td>\n",
              "      <td>144</td>\n",
              "      <td>1</td>\n",
              "      <td>cash</td>\n",
              "      <td>2017-03-14 4:23:56</td>\n",
              "    </tr>\n",
              "    <tr>\n",
              "      <th>3</th>\n",
              "      <td>4</td>\n",
              "      <td>18</td>\n",
              "      <td>935</td>\n",
              "      <td>156</td>\n",
              "      <td>1</td>\n",
              "      <td>credit_card</td>\n",
              "      <td>2017-03-26 12:43:37</td>\n",
              "    </tr>\n",
              "    <tr>\n",
              "      <th>4</th>\n",
              "      <td>5</td>\n",
              "      <td>18</td>\n",
              "      <td>883</td>\n",
              "      <td>156</td>\n",
              "      <td>1</td>\n",
              "      <td>credit_card</td>\n",
              "      <td>2017-03-01 4:35:11</td>\n",
              "    </tr>\n",
              "  </tbody>\n",
              "</table>\n",
              "</div>"
            ],
            "text/plain": [
              "   order_id  shop_id  user_id  ...  total_items  payment_method           created_at\n",
              "0         1       53      746  ...            2            cash  2017-03-13 12:36:56\n",
              "1         2       92      925  ...            1            cash  2017-03-03 17:38:52\n",
              "2         3       44      861  ...            1            cash   2017-03-14 4:23:56\n",
              "3         4       18      935  ...            1     credit_card  2017-03-26 12:43:37\n",
              "4         5       18      883  ...            1     credit_card   2017-03-01 4:35:11\n",
              "\n",
              "[5 rows x 7 columns]"
            ]
          },
          "metadata": {},
          "execution_count": 2
        }
      ]
    },
    {
      "cell_type": "code",
      "metadata": {
        "colab": {
          "base_uri": "https://localhost:8080/"
        },
        "id": "xE7egl37LB2G",
        "outputId": "5e2fc09f-aa78-413a-a37d-61070a260a75"
      },
      "source": [
        "print('Dates between: ' + min(df['created_at'])[0:10] + ' and ' + max(df['created_at'])[0:10] )"
      ],
      "execution_count": 3,
      "outputs": [
        {
          "output_type": "stream",
          "name": "stdout",
          "text": [
            "Dates between: 2017-03-01 and 2017-03-30\n"
          ]
        }
      ]
    },
    {
      "cell_type": "code",
      "metadata": {
        "colab": {
          "base_uri": "https://localhost:8080/"
        },
        "id": "OmzSSBsQLMS8",
        "outputId": "4d0c0cbb-edd8-4c4c-a249-a09c200d23d9"
      },
      "source": [
        "AOV=df['order_amount'].sum() / len(df)\n",
        "\n",
        "print('The metric calculated incorrectly was defined as the total order values divided by the dataframe number of rows.\\n So the average order value (AOV) was calculated equals to ${0:.2f}'.format(AOV))"
      ],
      "execution_count": 10,
      "outputs": [
        {
          "output_type": "stream",
          "name": "stdout",
          "text": [
            "The metric calculated incorrectly was defined as the total order values divided by the dataframe number of rows.\n",
            " So the average order value (AOV) was calculated equals to $3145.13\n"
          ]
        }
      ]
    },
    {
      "cell_type": "code",
      "metadata": {
        "colab": {
          "base_uri": "https://localhost:8080/",
          "height": 286
        },
        "id": "oZUIssWmLQuV",
        "outputId": "64938158-ccb9-4bbd-b942-3767096a4ed2"
      },
      "source": [
        "sns.set(style=\"whitegrid\")\n",
        "ax = sns.boxplot(x=df[\"payment_method\"], y=df[\"order_amount\"])"
      ],
      "execution_count": 11,
      "outputs": [
        {
          "output_type": "display_data",
          "data": {
            "image/png": "[encoded data removed]",
            "text/plain": [
              "<Figure size 432x288 with 1 Axes>"
            ]
          },
          "metadata": {}
        }
      ]
    },
    {
      "cell_type": "code",
      "metadata": {
        "colab": {
          "base_uri": "https://localhost:8080/"
        },
        "id": "7JtgKRH6LVWN",
        "outputId": "3f9c3b21-43fb-4d35-f471-207caa0a4f4b"
      },
      "source": [
        "avgPrice = df['order_amount'].sum() / df['total_items'].sum()\n",
        "\n",
        "print('The metric that should be reported for this dataset is  is to sum all orders amount and divide by\\\n",
        " the number of items in the order.\\nThe correct values is equals to  ${0:.2f}'.format(avgPrice))"
      ],
      "execution_count": 12,
      "outputs": [
        {
          "output_type": "stream",
          "name": "stdout",
          "text": [
            "The metric that should be reported for this dataset is  is to sum all orders amount and divide by the number of items in the order.\n",
            "The correct values is equals to  $357.92\n"
          ]
        }
      ]
    },
    {
      "cell_type": "code",
      "metadata": {
        "colab": {
          "base_uri": "https://localhost:8080/",
          "height": 204
        },
        "id": "2GDG8yIOLYjn",
        "outputId": "a71705bf-e027-46c1-8697-811811e1ab34"
      },
      "source": [
        "a=df.groupby(\"user_id\", as_index=False)[[\"total_items\", \"order_amount\"]].sum()\n",
        "a['avg_order'] = a['order_amount']/ a['total_items']\n",
        "a.sort_values(['avg_order'], ascending=False).head()"
      ],
      "execution_count": 13,
      "outputs": [
        {
          "output_type": "execute_result",
          "data": {
            "text/html": [
              "<div>\n",
              "<style scoped>\n",
              "    .dataframe tbody tr th:only-of-type {\n",
              "        vertical-align: middle;\n",
              "    }\n",
              "\n",
              "    .dataframe tbody tr th {\n",
              "        vertical-align: top;\n",
              "    }\n",
              "\n",
              "    .dataframe thead th {\n",
              "        text-align: right;\n",
              "    }\n",
              "</style>\n",
              "<table border=\"1\" class=\"dataframe\">\n",
              "  <thead>\n",
              "    <tr style=\"text-align: right;\">\n",
              "      <th></th>\n",
              "      <th>user_id</th>\n",
              "      <th>total_items</th>\n",
              "      <th>order_amount</th>\n",
              "      <th>avg_order</th>\n",
              "    </tr>\n",
              "  </thead>\n",
              "  <tbody>\n",
              "    <tr>\n",
              "      <th>179</th>\n",
              "      <td>878</td>\n",
              "      <td>24</td>\n",
              "      <td>156936</td>\n",
              "      <td>6539.000000</td>\n",
              "    </tr>\n",
              "    <tr>\n",
              "      <th>67</th>\n",
              "      <td>766</td>\n",
              "      <td>23</td>\n",
              "      <td>80076</td>\n",
              "      <td>3481.565217</td>\n",
              "    </tr>\n",
              "    <tr>\n",
              "      <th>263</th>\n",
              "      <td>962</td>\n",
              "      <td>24</td>\n",
              "      <td>80408</td>\n",
              "      <td>3350.333333</td>\n",
              "    </tr>\n",
              "    <tr>\n",
              "      <th>156</th>\n",
              "      <td>855</td>\n",
              "      <td>27</td>\n",
              "      <td>80915</td>\n",
              "      <td>2996.851852</td>\n",
              "    </tr>\n",
              "    <tr>\n",
              "      <th>76</th>\n",
              "      <td>775</td>\n",
              "      <td>28</td>\n",
              "      <td>81114</td>\n",
              "      <td>2896.928571</td>\n",
              "    </tr>\n",
              "  </tbody>\n",
              "</table>\n",
              "</div>"
            ],
            "text/plain": [
              "     user_id  total_items  order_amount    avg_order\n",
              "179      878           24        156936  6539.000000\n",
              "67       766           23         80076  3481.565217\n",
              "263      962           24         80408  3350.333333\n",
              "156      855           27         80915  2996.851852\n",
              "76       775           28         81114  2896.928571"
            ]
          },
          "metadata": {},
          "execution_count": 13
        }
      ]
    },
    {
      "cell_type": "code",
      "metadata": {
        "colab": {
          "base_uri": "https://localhost:8080/",
          "height": 204
        },
        "id": "IorQeb-RLcPq",
        "outputId": "4a08aefd-cd3a-4dee-8105-12d6278444a3"
      },
      "source": [
        "b=df.groupby(\"shop_id\", as_index=False)[[\"order_amount\", \"total_items\"]].sum()\n",
        "b['avg_order'] = b['order_amount'] / b['total_items']\n",
        "b.sort_values(['avg_order'], ascending=False).head()"
      ],
      "execution_count": 14,
      "outputs": [
        {
          "output_type": "execute_result",
          "data": {
            "text/html": [
              "<div>\n",
              "<style scoped>\n",
              "    .dataframe tbody tr th:only-of-type {\n",
              "        vertical-align: middle;\n",
              "    }\n",
              "\n",
              "    .dataframe tbody tr th {\n",
              "        vertical-align: top;\n",
              "    }\n",
              "\n",
              "    .dataframe thead th {\n",
              "        text-align: right;\n",
              "    }\n",
              "</style>\n",
              "<table border=\"1\" class=\"dataframe\">\n",
              "  <thead>\n",
              "    <tr style=\"text-align: right;\">\n",
              "      <th></th>\n",
              "      <th>shop_id</th>\n",
              "      <th>order_amount</th>\n",
              "      <th>total_items</th>\n",
              "      <th>avg_order</th>\n",
              "    </tr>\n",
              "  </thead>\n",
              "  <tbody>\n",
              "    <tr>\n",
              "      <th>77</th>\n",
              "      <td>78</td>\n",
              "      <td>2263800</td>\n",
              "      <td>88</td>\n",
              "      <td>25725.0</td>\n",
              "    </tr>\n",
              "    <tr>\n",
              "      <th>41</th>\n",
              "      <td>42</td>\n",
              "      <td>11990176</td>\n",
              "      <td>34063</td>\n",
              "      <td>352.0</td>\n",
              "    </tr>\n",
              "    <tr>\n",
              "      <th>11</th>\n",
              "      <td>12</td>\n",
              "      <td>18693</td>\n",
              "      <td>93</td>\n",
              "      <td>201.0</td>\n",
              "    </tr>\n",
              "    <tr>\n",
              "      <th>88</th>\n",
              "      <td>89</td>\n",
              "      <td>23128</td>\n",
              "      <td>118</td>\n",
              "      <td>196.0</td>\n",
              "    </tr>\n",
              "    <tr>\n",
              "      <th>98</th>\n",
              "      <td>99</td>\n",
              "      <td>18330</td>\n",
              "      <td>94</td>\n",
              "      <td>195.0</td>\n",
              "    </tr>\n",
              "  </tbody>\n",
              "</table>\n",
              "</div>"
            ],
            "text/plain": [
              "    shop_id  order_amount  total_items  avg_order\n",
              "77       78       2263800           88    25725.0\n",
              "41       42      11990176        34063      352.0\n",
              "11       12         18693           93      201.0\n",
              "88       89         23128          118      196.0\n",
              "98       99         18330           94      195.0"
            ]
          },
          "metadata": {},
          "execution_count": 14
        }
      ]
    },
    {
      "cell_type": "markdown",
      "metadata": {
        "id": "RXMaY8KnmB7B"
      },
      "source": [
        "**Question 2 Answers**\n",
        "\n",
        "\n",
        "**Question 2a**\n",
        "\n",
        "*Answer: 54*\n",
        "\n",
        "\n",
        "SELECT COUNT(*)\n",
        "FROM Orders AS o, Shippers AS s\n",
        "WHERE o.ShipperId = s.ShipperId AND ShipperName = \"Speedy Express\";\n",
        "\n",
        "\n",
        "\n",
        "**Question 2b**\n",
        "\n",
        "*Answer: Handel (10 orders)*\n",
        "\n",
        "SELECT c.CustomerName, COUNT(*) AS Count\n",
        "FROM Orders AS o, Customers AS c\n",
        "WHERE o.CustomerID = c.CustomerID\n",
        "GROUP BY o.CustomerID\n",
        "ORDER BY Count DESC\n",
        "LIMIT 1;\n",
        "\n",
        "\n",
        "\n",
        "**Question 2c**\n",
        "\n",
        "*Answer: Boston Crab Meat (ProductID: 40, TotalQuantity: 160)*\n",
        "\n",
        "SELECT p.ProductID, p.ProductName, SUM(Quantity) AS TotalQuantity\n",
        "FROM Orders AS o, OrderDetails AS od, Customers AS c, Products AS p\n",
        "WHERE c.Country = \"Germany\" AND od.OrderID = o.OrderID AND od.ProductID = p.ProductID AND c.CustomerID = o.CustomerID\n",
        "GROUP BY p.ProductID\n",
        "ORDER BY TotalQuantity DESC\n",
        "LIMIT 1;"
      ]
    }
  ]
}